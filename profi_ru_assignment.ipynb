{
  "nbformat": 4,
  "nbformat_minor": 0,
  "metadata": {
    "colab": {
      "name": "profi_ru_assignment.ipynb",
      "provenance": []
    },
    "kernelspec": {
      "name": "python3",
      "display_name": "Python 3"
    },
    "language_info": {
      "name": "python"
    }
  },
  "cells": [
    {
      "cell_type": "markdown",
      "metadata": {
        "id": "1fnIqL8qnP29"
      },
      "source": [
        "Тестовое задание\n",
        "\n",
        "Решить задачу\n",
        "\n",
        "Подкинули монету N раз. Кол-во случаев, когда выпал орёл, на 10% больше, чем кол-во случаев, когда выпала решка. При каком N мы можем сказать, что монета «нечестная» (орёл и решка выпадают с разной вероятностью)?\n"
      ]
    },
    {
      "cell_type": "markdown",
      "metadata": {
        "id": "IoUdKbAanTeA"
      },
      "source": [
        "Для решения данной задачи проверим гипотезу согласия с распределением Бернулли.\n",
        "\n",
        "$H_0: p = 0.5$\n",
        "\n",
        "$H_1: p > 0.5$\n",
        "\n",
        "Где $p$ - вероятность выпадения орла."
      ]
    },
    {
      "cell_type": "markdown",
      "metadata": {
        "id": "kk-0vtwRoLNc"
      },
      "source": [
        "Будем проверять одностороннюю гипотезу, так как в задаче орел всегда выпадает чаще."
      ]
    },
    {
      "cell_type": "markdown",
      "metadata": {
        "id": "9tNwdQ_lohxr"
      },
      "source": [
        "Зададимся уровнем значимости $\\alpha = 0.05$\n",
        "\n",
        "\n",
        "\n",
        "\n"
      ]
    },
    {
      "cell_type": "code",
      "metadata": {
        "id": "udxhAM6gqYLe"
      },
      "source": [
        "alpha = 0.05"
      ],
      "execution_count": null,
      "outputs": []
    },
    {
      "cell_type": "markdown",
      "metadata": {
        "id": "fnmcgmDzprmb"
      },
      "source": [
        "Для проверки гипотезы с конкретными результатами эксперимента воспользуемся биномиальным тестом из библиотеки scipy.\n",
        "\n",
        "Так как из практики можем подозревать что N не будет больше порядка тысяч, найдем минимальное значение N при котором p-value теста будет ниже уровня значимости $\\alpha$ простым перебором.\n",
        "\n",
        "При необходимости оптимизации можем заменить его бинарным поиском."
      ]
    },
    {
      "cell_type": "code",
      "metadata": {
        "id": "aLxe0ywHnQS5"
      },
      "source": [
        "from scipy.stats import binom_test"
      ],
      "execution_count": null,
      "outputs": []
    },
    {
      "cell_type": "code",
      "metadata": {
        "id": "y0scV27Apjvt"
      },
      "source": [
        "N = 0\n",
        "p_value = 1\n",
        "while p_value > alpha:\n",
        "    N+=1\n",
        "    p_value = binom_test(int(N*0.55), N, 0.5, 'greater')"
      ],
      "execution_count": null,
      "outputs": []
    },
    {
      "cell_type": "code",
      "metadata": {
        "colab": {
          "base_uri": "https://localhost:8080/"
        },
        "id": "fHjOBnVDrUwi",
        "outputId": "11ba2f20-081d-4f3f-8e89-64ad36a53e75"
      },
      "source": [
        "print(N)"
      ],
      "execution_count": null,
      "outputs": [
        {
          "output_type": "stream",
          "text": [
            "300\n"
          ],
          "name": "stdout"
        }
      ]
    },
    {
      "cell_type": "markdown",
      "metadata": {
        "id": "G4l2kq2JrpzU"
      },
      "source": [
        "Итак, мы можем утверждать что монета \"нечестная\" с вероятностью 0.95 при 300 подбрасываниях и больше."
      ]
    },
    {
      "cell_type": "markdown",
      "metadata": {
        "id": "I7fNmLOyBENH"
      },
      "source": [
        "Также можно произвести аналитическое решение данной задачи.\n",
        "\n",
        "Z-cтатистика для биномиального распределения выглядит следующим образом:\n",
        "\n",
        "$Z = \\frac{k-np}{\\sqrt{np(1-p)}}$\n",
        "\n",
        "или\n",
        "\n",
        "$Z = \\frac{k-np-0.5}{\\sqrt{np(1-p)}}$ с учетом continuity correction\n",
        "\n",
        "Подставив $Z = 1.65$, что является Z-статистикой для 95%-го доверительного интервала, $k = 0.55n$ что отражает десятипроцентное превалирование орлов и $p = 0.5$ согласно нулевой гипотезе, получаем неравенство:\n",
        "\n",
        "$1.65 \\ge \\frac{0.55n-0.5n-0.5}{\\sqrt{0.25n}}$\n",
        "\n",
        "Решив это неравенство, получим минимальный $n$, при котором Z-статистика оказывается в критической области.\n",
        "\n",
        "$n = 292$"
      ]
    },
    {
      "cell_type": "markdown",
      "metadata": {
        "id": "Yv4nYUA2EjGi"
      },
      "source": [
        "Корректным ответом на данную задачу стоит считать первое, алгоритмическое, решение, так как в нем используется точный критерий, а в аналитическом решении мы прибегнули к аппроксимации.\n",
        "\n",
        "Итак,\n",
        "\n",
        "$N = 300$"
      ]
    },
    {
      "cell_type": "code",
      "metadata": {
        "id": "xHDo-MCX8b16"
      },
      "source": [
        ""
      ],
      "execution_count": null,
      "outputs": []
    }
  ]
}